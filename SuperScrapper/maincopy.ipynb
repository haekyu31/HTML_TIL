{
 "cells": [
  {
   "cell_type": "code",
   "execution_count": 1,
   "metadata": {},
   "outputs": [],
   "source": [
    "from flask import Flask, render_template, request\n",
    "\n",
    "app = Flask(\"SuperScrapper\")"
   ]
  },
  {
   "cell_type": "code",
   "execution_count": 2,
   "metadata": {},
   "outputs": [],
   "source": [
    "@app.route(\"/\")\n",
    "def home():\n",
    "    return render_template(\"potato.html\")\n",
    "\n",
    "@app.route(\"/report\")\n",
    "def report():\n",
    "    word = request.args.get('word')\n",
    "    return render_template(\"report.html\", \n",
    "    SearchingBy = word, potato=\"sexy\")"
   ]
  },
  {
   "cell_type": "code",
   "execution_count": 3,
   "metadata": {},
   "outputs": [
    {
     "name": "stdout",
     "output_type": "stream",
     "text": [
      " * Serving Flask app 'SuperScrapper'\n",
      " * Debug mode: off\n"
     ]
    },
    {
     "name": "stderr",
     "output_type": "stream",
     "text": [
      "WARNING: This is a development server. Do not use it in a production deployment. Use a production WSGI server instead.\n",
      " * Running on all addresses (0.0.0.0)\n",
      " * Running on http://127.0.0.1:5000\n",
      " * Running on http://192.168.219.106:5000\n",
      "Press CTRL+C to quit\n",
      "127.0.0.1 - - [09/Oct/2022 17:22:07] \"GET /report?word=GO HTTP/1.1\" 200 -\n",
      "127.0.0.1 - - [09/Oct/2022 17:23:13] \"GET / HTTP/1.1\" 200 -\n",
      "127.0.0.1 - - [09/Oct/2022 17:23:16] \"GET /report?word=react HTTP/1.1\" 200 -\n"
     ]
    }
   ],
   "source": [
    "app.run(host = \"0.0.0.0\")"
   ]
  },
  {
   "cell_type": "code",
   "execution_count": null,
   "metadata": {},
   "outputs": [],
   "source": []
  }
 ],
 "metadata": {
  "kernelspec": {
   "display_name": "Python 3.10.7 64-bit",
   "language": "python",
   "name": "python3"
  },
  "language_info": {
   "codemirror_mode": {
    "name": "ipython",
    "version": 3
   },
   "file_extension": ".py",
   "mimetype": "text/x-python",
   "name": "python",
   "nbconvert_exporter": "python",
   "pygments_lexer": "ipython3",
   "version": "3.10.7"
  },
  "orig_nbformat": 4,
  "vscode": {
   "interpreter": {
    "hash": "db12aa6d1f92793bf2e4bb639c09fb280dfb1a39a1f9d716043661e198d39c10"
   }
  }
 },
 "nbformat": 4,
 "nbformat_minor": 2
}
